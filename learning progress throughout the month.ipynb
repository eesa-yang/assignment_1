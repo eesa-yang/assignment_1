{
 "cells": [
  {
   "cell_type": "code",
   "execution_count": 8,
   "id": "b11c170f",
   "metadata": {},
   "outputs": [
    {
     "name": "stdout",
     "output_type": "stream",
     "text": [
      "Enter hrs spent in task1 in week1:10\n",
      "Enter hrs spent in task2 in week1:3\n",
      "Enter hrs spent in task3 in week1:6\n",
      "Enter hrs spent in task1 in week2:12\n",
      "Enter hrs spent in task2 in week2:2\n",
      "Enter hrs spent in task3 in week2:8\n",
      "Enter hrs spent in task1 in week3:14\n",
      "Enter hrs spent in task2 in week3:5\n",
      "Enter hrs spent in task3 in week3:10\n",
      "Enter hrs spent in task1 in week4:11\n",
      "Enter hrs spent in task2 in week4:2\n",
      "Enter hrs spent in task3 in week4:10\n",
      "[{'week': 'week1', 'task1': '10', 'task2': '3', 'task3': '6', 'total hrs spent': 19}, {'week': 'week2', 'task1': '12', 'task2': '2', 'task3': '8', 'total hrs spent': 22}, {'week': 'week3', 'task1': '14', 'task2': '5', 'task3': '10', 'total hrs spent': 29}, {'week': 'week4', 'task1': '11', 'task2': '2', 'task3': '10', 'total hrs spent': 23}]\n"
     ]
    },
    {
     "data": {
      "text/html": [
       "<div>\n",
       "<style scoped>\n",
       "    .dataframe tbody tr th:only-of-type {\n",
       "        vertical-align: middle;\n",
       "    }\n",
       "\n",
       "    .dataframe tbody tr th {\n",
       "        vertical-align: top;\n",
       "    }\n",
       "\n",
       "    .dataframe thead th {\n",
       "        text-align: right;\n",
       "    }\n",
       "</style>\n",
       "<table border=\"1\" class=\"dataframe\">\n",
       "  <thead>\n",
       "    <tr style=\"text-align: right;\">\n",
       "      <th></th>\n",
       "      <th>week</th>\n",
       "      <th>task1</th>\n",
       "      <th>task2</th>\n",
       "      <th>task3</th>\n",
       "      <th>total hrs spent</th>\n",
       "    </tr>\n",
       "  </thead>\n",
       "  <tbody>\n",
       "    <tr>\n",
       "      <th>0</th>\n",
       "      <td>week1</td>\n",
       "      <td>10</td>\n",
       "      <td>3</td>\n",
       "      <td>6</td>\n",
       "      <td>19</td>\n",
       "    </tr>\n",
       "    <tr>\n",
       "      <th>1</th>\n",
       "      <td>week2</td>\n",
       "      <td>12</td>\n",
       "      <td>2</td>\n",
       "      <td>8</td>\n",
       "      <td>22</td>\n",
       "    </tr>\n",
       "    <tr>\n",
       "      <th>2</th>\n",
       "      <td>week3</td>\n",
       "      <td>14</td>\n",
       "      <td>5</td>\n",
       "      <td>10</td>\n",
       "      <td>29</td>\n",
       "    </tr>\n",
       "    <tr>\n",
       "      <th>3</th>\n",
       "      <td>week4</td>\n",
       "      <td>11</td>\n",
       "      <td>2</td>\n",
       "      <td>10</td>\n",
       "      <td>23</td>\n",
       "    </tr>\n",
       "  </tbody>\n",
       "</table>\n",
       "</div>"
      ],
      "text/plain": [
       "    week task1 task2 task3  total hrs spent\n",
       "0  week1    10     3     6               19\n",
       "1  week2    12     2     8               22\n",
       "2  week3    14     5    10               29\n",
       "3  week4    11     2    10               23"
      ]
     },
     "execution_count": 8,
     "metadata": {},
     "output_type": "execute_result"
    }
   ],
   "source": [
    "import pandas as pd\n",
    "monthly_progress = []\n",
    "week_of_month = [\"week1\",\"week2\",\"week3\",\"week4\"]\n",
    "for i in week_of_month:\n",
    "    hrs_task1 = input(\"Enter hrs spent in task1 in \" + i + \":\")\n",
    "    hrs_task2 = input(\"Enter hrs spent in task2 in \" + i + \":\")\n",
    "    hrs_task3 = input(\"Enter hrs spent in task3 in \" + i + \":\")\n",
    "    total_hrs = int(hrs_task1) + int(hrs_task2) + int(hrs_task3)\n",
    "    monthly_progress.append({\"week\":i,\"task1\":hrs_task1,\"task2\":hrs_task2,\"task3\":hrs_task3,\"total hrs spent\":total_hrs})\n",
    "print(monthly_progress)\n",
    "df = pd.DataFrame(monthly_progress)\n",
    "df.to_csv(\"monthly_progress.csv\",mode=\"w\",index=False)\n",
    "df"
   ]
  },
  {
   "cell_type": "code",
   "execution_count": 23,
   "id": "cc154a96",
   "metadata": {},
   "outputs": [
    {
     "name": "stdout",
     "output_type": "stream",
     "text": [
      "Time List: \n",
      " [['week1', 10, 3, 6, 19], ['week2', 12, 2, 8, 22], ['week3', 14, 5, 10, 29], ['week4', 11, 2, 10, 23]]\n",
      "task1: [10, 12, 14, 11] \n",
      "\n",
      "task2: [3, 2, 5, 2] \n",
      "\n",
      "task3: [6, 8, 10, 10] \n",
      "\n",
      "total: [19, 22, 29, 23] \n",
      "\n",
      "average: [4.75, 5.5, 7.25, 5.75] \n",
      "\n"
     ]
    },
    {
     "data": {
      "image/png": "[encoded data removed]",
      "text/plain": [
       "<Figure size 432x288 with 1 Axes>"
      ]
     },
     "metadata": {
      "needs_background": "light"
     },
     "output_type": "display_data"
    }
   ],
   "source": [
    "import pandas as pd\n",
    "from matplotlib import pyplot as plt\n",
    "df = pd.read_csv(\"monthly_progress.csv\")\n",
    "df\n",
    "time_list = df.values.tolist()\n",
    "print(\"Time List:\",\"\\n\",time_list)\n",
    "week_of_month = []\n",
    "hrs_task1 = []\n",
    "hrs_task2 = []\n",
    "hrs_task3 = []\n",
    "total_hrs = []\n",
    "for i in time_list:\n",
    "    week_of_month.append(i[0])\n",
    "    hrs_task1.append(i[1])\n",
    "    hrs_task2.append(i[2])\n",
    "    hrs_task3.append(i[3])\n",
    "    total_hrs.append(i[4])\n",
    "print(\"task1:\",hrs_task1,\"\\n\")\n",
    "print(\"task2:\",hrs_task2,\"\\n\")\n",
    "print(\"task3:\",hrs_task3,\"\\n\")\n",
    "print(\"total:\",total_hrs,\"\\n\")\n",
    "avg = [int(total_hrs[0])/4,int(total_hrs[1])/4,int(total_hrs[2])/4,int(total_hrs[3])/4]\n",
    "print(\"average:\",avg,\"\\n\")\n",
    "plt.plot(week_of_month, hrs_task1, color=\"purple\", marker=\"o\")\n",
    "plt.plot(week_of_month, hrs_task2, color=\"green\", marker=\"s\")\n",
    "plt.plot(week_of_month, hrs_task3, color=\"blue\", marker=\"o\")\n",
    "plt.plot(week_of_month, avg, color=\"red\", linestyle=\"--\")\n",
    "plt.legend([\"task1\",\"task2\",\"task3\",\"average\"])\n",
    "plt.xlabel(\"Week of Month\")\n",
    "plt.ylabel(\"hrs\")\n",
    "plt.title(\"Learning Progress per Week\")\n",
    "plt.show()\n"
   ]
  },
  {
   "cell_type": "code",
   "execution_count": null,
   "id": "04686550",
   "metadata": {},
   "outputs": [],
   "source": []
  }
 ],
 "metadata": {
  "kernelspec": {
   "display_name": "Python 3",
   "language": "python",
   "name": "python3"
  },
  "language_info": {
   "codemirror_mode": {
    "name": "ipython",
    "version": 3
   },
   "file_extension": ".py",
   "mimetype": "text/x-python",
   "name": "python",
   "nbconvert_exporter": "python",
   "pygments_lexer": "ipython3",
   "version": "3.8.8"
  }
 },
 "nbformat": 4,
 "nbformat_minor": 5
}
